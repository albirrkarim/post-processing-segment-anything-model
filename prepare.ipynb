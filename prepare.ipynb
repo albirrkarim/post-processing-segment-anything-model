{
 "cells": [
  {
   "cell_type": "code",
   "execution_count": 9,
   "metadata": {},
   "outputs": [
    {
     "name": "stdout",
     "output_type": "stream",
     "text": [
      "/Users/susanto/Documents/Proyek/best-remove-background/latihan-remove-background/SegmentAnything/algorithms\n"
     ]
    }
   ],
   "source": [
    "# clone all algorithm sam, matteformer, aim, inspyrenet\n",
    "\n",
    "!cd \"algorithms\" && git clone git@github.com:webtoon/matteformer.git\n",
    "\n",
    "!cd \"algorithms\" && git clone git@github.com:facebookresearch/segment-anything.git\n",
    "\n",
    "!cd \"algorithms\" && git clone git@github.com:JizhiziLi/AIM.git\n",
    "\n",
    "!pip install transparent-background"
   ]
  },
  {
   "cell_type": "code",
   "execution_count": null,
   "metadata": {},
   "outputs": [],
   "source": [
    "!pip install \"algorithms/segment-anything\""
   ]
  },
  {
   "cell_type": "code",
   "execution_count": null,
   "metadata": {},
   "outputs": [],
   "source": [
    "MODEL_DIR = \"models/\""
   ]
  },
  {
   "cell_type": "code",
   "execution_count": null,
   "metadata": {},
   "outputs": [],
   "source": [
    "# download all models .pth\n",
    "import gdown\n",
    "\n",
    "# AIM NET\n",
    "# aimnet_pretrained_matting.pth\n",
    "gdown.download(\n",
    "    \"https://drive.google.com/uc?export=download&id=16dd1FGMcsMTqR6EfD2T9mtRmPwxnY0zs\", \n",
    "    output=MODEL_DIR+\"aimnet_pretrained_matting.pth\")\n",
    "\n",
    "# r34mp_pretrained_imagenet.pth.tar\n",
    "gdown.download(\"https://drive.google.com/uc?export=download&id=18Pt-klsbkiyonMdGi6dytExQEjzBnHwY\",\n",
    "               output=MODEL_DIR+\"r34mp_pretrained_imagenet.pth.tar\")\n"
   ]
  },
  {
   "cell_type": "code",
   "execution_count": null,
   "metadata": {},
   "outputs": [],
   "source": [
    "# Matteformer\n",
    "gdown.download(\"https://drive.google.com/file/d/1AU7uM1dtYjEhtOa_9OGfoQUE-tmW9mX5/view?usp=sharing\",\n",
    "               output=MODEL_DIR+\"matteformer.pth\")\n"
   ]
  },
  {
   "cell_type": "code",
   "execution_count": null,
   "metadata": {},
   "outputs": [],
   "source": [
    "#Inspyrenet\n",
    "gdown.download(\"https://drive.google.com/u/0/uc?id=1aCxHMbhvj8ah77jXVgqvqImQA_Y0G-Yg&export=download\",\n",
    "               output=MODEL_DIR+\"InSPyReNet_SwinB_DIS5K.pth\")"
   ]
  },
  {
   "cell_type": "code",
   "execution_count": null,
   "metadata": {},
   "outputs": [],
   "source": []
  }
 ],
 "metadata": {
  "kernelspec": {
   "display_name": "coba_torch",
   "language": "python",
   "name": "python3"
  },
  "language_info": {
   "codemirror_mode": {
    "name": "ipython",
    "version": 3
   },
   "file_extension": ".py",
   "mimetype": "text/x-python",
   "name": "python",
   "nbconvert_exporter": "python",
   "pygments_lexer": "ipython3",
   "version": "3.9.15"
  },
  "orig_nbformat": 4
 },
 "nbformat": 4,
 "nbformat_minor": 2
}

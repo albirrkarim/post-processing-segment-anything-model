{
 "cells": [
  {
   "cell_type": "code",
   "execution_count": 2,
   "metadata": {},
   "outputs": [],
   "source": [
    "import random\n",
    "import numpy as np\n",
    "import torch\n",
    "import matplotlib.pyplot as plt\n",
    "import cv2\n",
    "from helper import *\n",
    "import math\n",
    "\n",
    "\n",
    "from scipy.ndimage import binary_dilation, binary_erosion\n"
   ]
  },
  {
   "cell_type": "code",
   "execution_count": 3,
   "metadata": {},
   "outputs": [],
   "source": [
    "def find_dominant(arr):\n",
    "    # Get unique colors and their counts\n",
    "    unique, counts = np.unique(arr, axis=0, return_counts=True)\n",
    "\n",
    "    # Sort the counts in descending order\n",
    "    sorted_counts_indices = np.argsort(-counts)\n",
    "\n",
    "    # Get the color with the highest count as the dominant color\n",
    "    dominant_color = unique[sorted_counts_indices[0]]\n",
    "\n",
    "    return dominant_color\n"
   ]
  },
  {
   "cell_type": "code",
   "execution_count": 4,
   "metadata": {},
   "outputs": [],
   "source": [
    "def calculate_distance(rgba1, rgba2):\n",
    "    return np.sqrt(np.sum((rgba1 - rgba2) ** 2))"
   ]
  },
  {
   "cell_type": "code",
   "execution_count": 5,
   "metadata": {},
   "outputs": [
    {
     "name": "stdout",
     "output_type": "stream",
     "text": [
      "18.275666882497067\n"
     ]
    }
   ],
   "source": [
    "rgba1 = np.array([174,134,93,255], dtype=np.uint8)  # red\n",
    "rgba2 = np.array([228, 195, 142, 255], dtype=np.uint8)  # green\n",
    "\n",
    "distance = calculate_distance(rgba1, rgba2)\n",
    "\n",
    "print(distance)  "
   ]
  },
  {
   "cell_type": "code",
   "execution_count": 6,
   "metadata": {},
   "outputs": [],
   "source": [
    "def find_closest_color_mode1(arr, target_color):\n",
    "    print(\"find_closest_color_mode1\")\n",
    "    arr = np.array(arr)\n",
    "    arr = arr.astype(int)\n",
    "\n",
    "    print(arr)\n",
    "    print(target_color)\n",
    "\n",
    "    distances = np.sqrt(np.sum((arr - target_color)**2, axis=1))\n",
    "    closest_index = np.argmin(distances)\n",
    "\n",
    "    print(distances)\n",
    "    print(\"result \", closest_index)\n",
    "\n",
    "    return closest_index\n"
   ]
  },
  {
   "cell_type": "code",
   "execution_count": null,
   "metadata": {},
   "outputs": [],
   "source": []
  },
  {
   "cell_type": "code",
   "execution_count": 7,
   "metadata": {},
   "outputs": [],
   "source": [
    "def find_closest_color(arr, compare_rgba):\n",
    "    \n",
    "    arr = np.array(arr)\n",
    "    arr = arr.astype(int)\n",
    "\n",
    "    # print(\"find_closest_color\")\n",
    "    # print(arr)\n",
    "    # print(compare_rgba)\n",
    "    # Find the index of the closest color\n",
    "    distances = np.linalg.norm(arr - compare_rgba, axis=1)\n",
    "    closest_index = np.argmin(distances)\n",
    "\n",
    "    # print(distances)\n",
    "    # print(\"result \",closest_index)\n",
    "    return closest_index\n"
   ]
  },
  {
   "cell_type": "code",
   "execution_count": 8,
   "metadata": {},
   "outputs": [
    {
     "name": "stdout",
     "output_type": "stream",
     "text": [
      "find_closest_color_mode1\n",
      "[[ 48  38  34 255]\n",
      " [228 195 142 255]]\n",
      "[174 134  93 255]\n",
      "[169.03549923  95.06839643]\n",
      "result  1\n",
      "1\n"
     ]
    }
   ],
   "source": [
    "k = np.array([\n",
    "    np.array([48,  38,  34, 255], dtype=np.uint8),\n",
    "    np.array([228, 195, 142, 255], dtype=np.uint8)\n",
    "])\n",
    "\n",
    "i = find_closest_color_mode1(k, np.array([174,134,93,255]))\n",
    "\n",
    "print(i)\n"
   ]
  },
  {
   "cell_type": "code",
   "execution_count": 9,
   "metadata": {},
   "outputs": [],
   "source": [
    "def calculate_darkness(rgba):\n",
    "    return 1.0 - ((0.299 * rgba[0] + 0.587 * rgba[1] + 0.114 * rgba[2]) / 255.0)\n"
   ]
  },
  {
   "cell_type": "code",
   "execution_count": 10,
   "metadata": {},
   "outputs": [],
   "source": [
    "def find_closest_color_darkness(rgba_array,target_rgba):\n",
    "    darkness_array = np.array([calculate_darkness(rgba) for rgba in rgba_array])\n",
    "\n",
    "    # Calculate the darkness of the target RGBA value\n",
    "    target_darkness = calculate_darkness(target_rgba)\n",
    "\n",
    "    # Find the index of the closest RGBA value based on darkness\n",
    "    closest_index = np.argmin(np.abs(darkness_array - target_darkness))\n",
    "    \n",
    "    return closest_index\n"
   ]
  },
  {
   "cell_type": "code",
   "execution_count": 11,
   "metadata": {},
   "outputs": [],
   "source": [
    "def get_edge_mask(mask):\n",
    "    # Dilate the mask to get the boundary pixels\n",
    "    dilated_mask = binary_dilation(mask)\n",
    "    # Erode the mask to get the interior pixels\n",
    "    eroded_mask = binary_erosion(mask)\n",
    "    # Subtract the eroded mask from the dilated mask to get the boundary pixels\n",
    "    edge_mask = np.logical_and(dilated_mask, np.logical_not(eroded_mask))\n",
    "    return edge_mask\n"
   ]
  },
  {
   "cell_type": "code",
   "execution_count": 68,
   "metadata": {},
   "outputs": [],
   "source": [
    "def edges_repair(rgba_image, class_img, binary_mask, sample=10):\n",
    "    height = rgba_image.shape[0]\n",
    "    width = rgba_image.shape[1]\n",
    "\n",
    "    # class_img\n",
    "    # rgba_image\n",
    "    arr = []\n",
    "    x_floor = math.floor(sample/2)\n",
    "    left = x_floor\n",
    "    right = sample-x_floor\n",
    "    index = 0\n",
    "\n",
    "    change_color = []\n",
    "\n",
    "    class_img_out = class_img.copy()\n",
    "\n",
    "    class_arr = class_img\n",
    "\n",
    "    unique_class_arr = np.unique(class_arr)\n",
    "    if (len(unique_class_arr) > 0):\n",
    "        # print(unique_class_arr)\n",
    "        cropped_image_filter = rgba_image\n",
    "\n",
    "        # find dominant color in that class\n",
    "        arr_dominant = []\n",
    "        for u in unique_class_arr:\n",
    "            arr_color = cropped_image_filter[class_arr == u]\n",
    "            dom = find_dominant(arr_color)\n",
    "            arr_dominant.append(dom)\n",
    "\n",
    "        # print(arr_dominant)\n",
    "        # print(unique_class_arr)\n",
    "        class_arr_out = class_arr.copy()\n",
    "\n",
    "        # Iterate over filter\n",
    "        for y_filter in range(1, cropped_image_filter.shape[0]-1):\n",
    "            for x_filter in range(1, cropped_image_filter.shape[1]-1):\n",
    "\n",
    "                current_class = class_arr[y_filter][x_filter]\n",
    "\n",
    "                can = False\n",
    "                counter=0\n",
    "                # Only change is its in the edge\n",
    "                if (y_filter > 0 and x_filter > 0):\n",
    "                    top = class_arr[y_filter-1][x_filter]\n",
    "                    left = class_arr[y_filter][x_filter-1]\n",
    "                    right = class_arr[y_filter][x_filter+1]\n",
    "                    bottom = class_arr[y_filter+1][x_filter]\n",
    "\n",
    "                    if(current_class == top):\n",
    "                        counter+=1\n",
    "\n",
    "                    if(current_class == left):\n",
    "                        counter+=1\n",
    "\n",
    "                    if(current_class == right):\n",
    "                        counter+=1\n",
    "                    \n",
    "                    if(current_class == bottom):\n",
    "                        counter+=1\n",
    "\n",
    "                    if (counter<3):\n",
    "                        can = True\n",
    "\n",
    "                if(can):\n",
    "                    compare_rgba = cropped_image_filter[y_filter][x_filter]\n",
    "                    idx = find_closest_color(\n",
    "                        arr_dominant, compare_rgba)\n",
    "\n",
    "                    must_class = unique_class_arr[idx]\n",
    "                    # print(\"compare_rgba \",compare_rgba, arr_dominant[idx])\n",
    "\n",
    "                    if (current_class != must_class):\n",
    "                        # change class\n",
    "                        # if(current_class==4.0):\n",
    "                        # print(\"compare_rgba \", compare_rgba)\n",
    "                        # print(\"arr_dominant\")\n",
    "                        # print(\"idx \",idx)\n",
    "                        # print(\"change color \", compare_rgba,arr_dominant[idx])\n",
    "                        # print(\"change class \", current_class, must_class)\n",
    "                        class_arr_out[y_filter][x_filter] = must_class\n",
    "\n",
    "                        change_color.append(\n",
    "                            [y_filter, x_filter, current_class, must_class])\n",
    "                        class_img_out[y_filter][x_filter] = must_class\n",
    "                        \n",
    "        index += 1\n",
    "        arr.append(\n",
    "            [cropped_image_filter, class_arr, class_arr_out])\n",
    "\n",
    "    return [arr, class_img_out]\n"
   ]
  },
  {
   "cell_type": "code",
   "execution_count": 71,
   "metadata": {},
   "outputs": [
    {
     "data": {
      "text/plain": [
       "<matplotlib.image.AxesImage at 0x17fd5d3d0>"
      ]
     },
     "execution_count": 71,
     "metadata": {},
     "output_type": "execute_result"
    },
    {
     "data": {
      "image/png": "[encoded data removed]",
      "text/plain": [
       "<Figure size 640x480 with 1 Axes>"
      ]
     },
     "metadata": {},
     "output_type": "display_data"
    }
   ],
   "source": [
    "image = Image.open(\"images/parts/32_a.png\")\n",
    "image = np.asarray(image)\n",
    "plt.imshow(image)"
   ]
  },
  {
   "cell_type": "code",
   "execution_count": 73,
   "metadata": {},
   "outputs": [
    {
     "data": {
      "text/plain": [
       "<matplotlib.image.AxesImage at 0x17fea4970>"
      ]
     },
     "execution_count": 73,
     "metadata": {},
     "output_type": "execute_result"
    },
    {
     "data": {
      "image/png": "[encoded data removed]",
      "text/plain": [
       "<Figure size 640x480 with 1 Axes>"
      ]
     },
     "metadata": {},
     "output_type": "display_data"
    }
   ],
   "source": [
    "a = Image.open(\"images/parts/32_b.png\")\n",
    "\n",
    "a = np.asarray(a)\n",
    "\n",
    "plt.imshow(a)"
   ]
  },
  {
   "cell_type": "code",
   "execution_count": 74,
   "metadata": {},
   "outputs": [
    {
     "data": {
      "image/png": "[encoded data removed]",
      "text/plain": [
       "<Figure size 640x480 with 1 Axes>"
      ]
     },
     "metadata": {},
     "output_type": "display_data"
    }
   ],
   "source": [
    "# print(a)\n",
    "\n",
    "class_img = np.zeros((a.shape[0], a.shape[1]))\n",
    "\n",
    "\n",
    "mask = np.all(a == a[0][0], axis=2)\n",
    "\n",
    "edge = get_edge_mask(mask)\n",
    "plt.imshow(a)\n",
    "\n",
    "# plt.imshow(mask)\n",
    "\n",
    "class_img[mask] = 1\n",
    "# class_img[a[:, :, :3] == [179, 154, 217, 255]] = 1\n",
    "\n",
    "# [179, 154, 217, 255]\n",
    "# [176, 80, 147, 255]\n",
    "\n",
    "# plt.imshow(class_img)s\n",
    "\n",
    "# print(class_img)\n"
   ]
  },
  {
   "cell_type": "code",
   "execution_count": 75,
   "metadata": {},
   "outputs": [],
   "source": [
    "arr, class_img_out = edges_repair(image, class_img,edge, 10)\n"
   ]
  },
  {
   "cell_type": "code",
   "execution_count": 76,
   "metadata": {},
   "outputs": [
    {
     "data": {
      "text/plain": [
       "<matplotlib.image.AxesImage at 0x17ff67d90>"
      ]
     },
     "execution_count": 76,
     "metadata": {},
     "output_type": "execute_result"
    },
    {
     "data": {
      "image/png": "[encoded data removed]",
      "text/plain": [
       "<Figure size 640x480 with 1 Axes>"
      ]
     },
     "metadata": {},
     "output_type": "display_data"
    }
   ],
   "source": [
    "plt.imshow(class_img_out)"
   ]
  },
  {
   "cell_type": "code",
   "execution_count": 65,
   "metadata": {},
   "outputs": [],
   "source": [
    "height = class_img.shape[0]\n",
    "width = class_img.shape[1]\n",
    "\n",
    "\n",
    "class_img_a = class_img.copy()\n",
    "\n",
    "for y_filter in range(1, class_img.shape[0]-1):\n",
    "    for x_filter in range(1, class_img.shape[1]-1):\n",
    "        current_class = class_img[y_filter][x_filter]\n",
    "\n",
    "        can = False\n",
    "        counter= 0\n",
    "        # Only change is its in the edge\n",
    "        if (y_filter > 0 and x_filter > 0):\n",
    "            top = class_img[y_filter-1][x_filter]\n",
    "            left = class_img[y_filter][x_filter-1]\n",
    "            right = class_img[y_filter][x_filter+1]\n",
    "            bottom = class_img[y_filter+1][x_filter]\n",
    "\n",
    "            if(current_class == top):\n",
    "                counter+=1\n",
    "\n",
    "            if(current_class == left):\n",
    "                counter+=1\n",
    "\n",
    "            if(current_class == right):\n",
    "                counter+=1\n",
    "            \n",
    "            if(current_class == bottom):\n",
    "                counter+=1\n",
    "\n",
    "            if (counter<3):\n",
    "                can = True\n",
    "\n",
    "        if (can):\n",
    "            class_img_a[y_filter][x_filter] = 9\n"
   ]
  },
  {
   "cell_type": "code",
   "execution_count": 61,
   "metadata": {},
   "outputs": [
    {
     "name": "stdout",
     "output_type": "stream",
     "text": [
      "[[1. 1. 1. 1. 1. 1. 1. 1. 1. 1.]\n",
      " [0. 1. 1. 1. 1. 1. 1. 1. 1. 1.]\n",
      " [0. 0. 1. 1. 1. 1. 1. 1. 1. 1.]\n",
      " [0. 0. 0. 1. 1. 1. 1. 1. 1. 1.]\n",
      " [0. 0. 0. 0. 1. 1. 1. 1. 1. 1.]\n",
      " [0. 0. 0. 0. 0. 1. 1. 1. 1. 1.]\n",
      " [1. 0. 0. 0. 0. 0. 1. 1. 1. 1.]\n",
      " [1. 1. 0. 0. 0. 0. 0. 1. 1. 1.]\n",
      " [1. 1. 0. 0. 0. 0. 0. 1. 1. 1.]\n",
      " [1. 1. 1. 0. 0. 0. 0. 0. 1. 1.]]\n"
     ]
    }
   ],
   "source": [
    "print(class_img)"
   ]
  },
  {
   "cell_type": "code",
   "execution_count": 62,
   "metadata": {},
   "outputs": [
    {
     "data": {
      "text/plain": [
       "<matplotlib.image.AxesImage at 0x17e8c3ac0>"
      ]
     },
     "execution_count": 62,
     "metadata": {},
     "output_type": "execute_result"
    },
    {
     "data": {
      "image/png": "[encoded data removed]",
      "text/plain": [
       "<Figure size 640x480 with 1 Axes>"
      ]
     },
     "metadata": {},
     "output_type": "display_data"
    }
   ],
   "source": [
    "plt.imshow(class_img)"
   ]
  },
  {
   "cell_type": "code",
   "execution_count": 66,
   "metadata": {},
   "outputs": [
    {
     "name": "stdout",
     "output_type": "stream",
     "text": [
      "[[1. 1. 1. 1. 1. 1. 1. 1. 1. 1.]\n",
      " [0. 9. 1. 1. 1. 1. 1. 1. 1. 1.]\n",
      " [0. 9. 9. 1. 1. 1. 1. 1. 1. 1.]\n",
      " [0. 0. 9. 9. 1. 1. 1. 1. 1. 1.]\n",
      " [0. 0. 0. 9. 9. 1. 1. 1. 1. 1.]\n",
      " [0. 0. 0. 0. 9. 9. 1. 1. 1. 1.]\n",
      " [1. 9. 0. 0. 0. 9. 9. 1. 1. 1.]\n",
      " [1. 9. 0. 0. 0. 0. 9. 1. 1. 1.]\n",
      " [1. 1. 9. 0. 0. 0. 0. 9. 1. 1.]\n",
      " [1. 1. 1. 0. 0. 0. 0. 0. 1. 1.]]\n"
     ]
    }
   ],
   "source": [
    "print(class_img_a)"
   ]
  },
  {
   "cell_type": "code",
   "execution_count": 67,
   "metadata": {},
   "outputs": [
    {
     "data": {
      "text/plain": [
       "<matplotlib.image.AxesImage at 0x2939a2b20>"
      ]
     },
     "execution_count": 67,
     "metadata": {},
     "output_type": "execute_result"
    },
    {
     "data": {
      "image/png": "[encoded data removed]",
      "text/plain": [
       "<Figure size 640x480 with 1 Axes>"
      ]
     },
     "metadata": {},
     "output_type": "display_data"
    }
   ],
   "source": [
    "plt.imshow(class_img_a)"
   ]
  },
  {
   "cell_type": "code",
   "execution_count": 52,
   "metadata": {},
   "outputs": [
    {
     "data": {
      "text/plain": [
       "<matplotlib.image.AxesImage at 0x175a7f970>"
      ]
     },
     "execution_count": 52,
     "metadata": {},
     "output_type": "execute_result"
    },
    {
     "data": {
      "image/png": "[encoded data removed]",
      "text/plain": [
       "<Figure size 640x480 with 1 Axes>"
      ]
     },
     "metadata": {},
     "output_type": "display_data"
    }
   ],
   "source": [
    "plt.imshow(class_img_out)"
   ]
  },
  {
   "cell_type": "code",
   "execution_count": 64,
   "metadata": {},
   "outputs": [
    {
     "data": {
      "text/plain": [
       "<matplotlib.image.AxesImage at 0x17fd295b0>"
      ]
     },
     "execution_count": 64,
     "metadata": {},
     "output_type": "execute_result"
    },
    {
     "data": {
      "image/png": "[encoded data removed]",
      "text/plain": [
       "<Figure size 640x480 with 1 Axes>"
      ]
     },
     "metadata": {},
     "output_type": "display_data"
    }
   ],
   "source": [
    "# Make canny edge from whole imagge\n",
    "edges = canny_edge_detection(image)\n",
    "kernel = np.ones((5, 5), np.uint8)\n",
    "closed_edges = cv2.morphologyEx(edges, cv2.MORPH_CLOSE, kernel)\n",
    "rgba_img_canny = image.copy()\n",
    "rgba_img_canny[closed_edges == 0] = [0, 0, 0, 0]\n",
    "\n",
    "plt.imshow(rgba_img_canny)\n"
   ]
  },
  {
   "cell_type": "code",
   "execution_count": 55,
   "metadata": {},
   "outputs": [
    {
     "data": {
      "text/plain": [
       "<matplotlib.image.AxesImage at 0x175b4f7c0>"
      ]
     },
     "execution_count": 55,
     "metadata": {},
     "output_type": "execute_result"
    },
    {
     "data": {
      "image/png": "[encoded data removed]",
      "text/plain": [
       "<Figure size 640x480 with 1 Axes>"
      ]
     },
     "metadata": {},
     "output_type": "display_data"
    }
   ],
   "source": [
    "from scipy.ndimage import binary_dilation\n",
    "\n",
    "# create a 10x10 binary image\n",
    "# img = np.zeros((10, 10), dtype=bool)\n",
    "# img[3:7, 3:7] = True\n",
    "\n",
    "# define the structuring element for dilation\n",
    "struct = np.array([[0, 1, 0],\n",
    "                   [1, 1, 1],\n",
    "                   [0, 1, 0]])\n",
    "\n",
    "# perform dilation on the true region of the image\n",
    "# dilated_img = np.zeros((10, 10), dtype=bool)\n",
    "dilated_img = binary_dilation(class_img_out, struct)\n",
    "\n",
    "plt.imshow(dilated_img)\n"
   ]
  },
  {
   "cell_type": "code",
   "execution_count": 44,
   "metadata": {},
   "outputs": [
    {
     "data": {
      "text/plain": [
       "<matplotlib.image.AxesImage at 0x17583d610>"
      ]
     },
     "execution_count": 44,
     "metadata": {},
     "output_type": "execute_result"
    },
    {
     "data": {
      "image/png": "[encoded data removed]",
      "text/plain": [
       "<Figure size 640x480 with 1 Axes>"
      ]
     },
     "metadata": {},
     "output_type": "display_data"
    }
   ],
   "source": [
    "plt.imshow(class_img)"
   ]
  },
  {
   "cell_type": "code",
   "execution_count": 21,
   "metadata": {},
   "outputs": [
    {
     "name": "stdout",
     "output_type": "stream",
     "text": [
      "[[[176  80 147 255]\n",
      "  [176  80 147 255]\n",
      "  [176  80 147 255]\n",
      "  [179 154 217 255]\n",
      "  [179 154 217 255]\n",
      "  [179 154 217 255]\n",
      "  [179 154 217 255]\n",
      "  [179 154 217 255]\n",
      "  [179 154 217 255]\n",
      "  [179 154 217 255]]\n",
      "\n",
      " [[176  80 147 255]\n",
      "  [176  80 147 255]\n",
      "  [176  80 147 255]\n",
      "  [179 154 217 255]\n",
      "  [179 154 217 255]\n",
      "  [179 154 217 255]\n",
      "  [179 154 217 255]\n",
      "  [179 154 217 255]\n",
      "  [179 154 217 255]\n",
      "  [179 154 217 255]]\n",
      "\n",
      " [[176  80 147 255]\n",
      "  [176  80 147 255]\n",
      "  [179 154 217 255]\n",
      "  [179 154 217 255]\n",
      "  [179 154 217 255]\n",
      "  [179 154 217 255]\n",
      "  [179 154 217 255]\n",
      "  [176  80 147 255]\n",
      "  [179 154 217 255]\n",
      "  [176  80 147 255]]\n",
      "\n",
      " [[176  80 147 255]\n",
      "  [176  80 147 255]\n",
      "  [179 154 217 255]\n",
      "  [179 154 217 255]\n",
      "  [179 154 217 255]\n",
      "  [179 154 217 255]\n",
      "  [179 154 217 255]\n",
      "  [179 154 217 255]\n",
      "  [179 154 217 255]\n",
      "  [179 154 217 255]]\n",
      "\n",
      " [[176  80 147 255]\n",
      "  [176  80 147 255]\n",
      "  [176  80 147 255]\n",
      "  [179 154 217 255]\n",
      "  [179 154 217 255]\n",
      "  [179 154 217 255]\n",
      "  [179 154 217 255]\n",
      "  [179 154 217 255]\n",
      "  [179 154 217 255]\n",
      "  [176  80 147 255]]\n",
      "\n",
      " [[176  80 147 255]\n",
      "  [176  80 147 255]\n",
      "  [179 154 217 255]\n",
      "  [179 154 217 255]\n",
      "  [179 154 217 255]\n",
      "  [179 154 217 255]\n",
      "  [179 154 217 255]\n",
      "  [176  80 147 255]\n",
      "  [179 154 217 255]\n",
      "  [176  80 147 255]]\n",
      "\n",
      " [[176  80 147 255]\n",
      "  [176  80 147 255]\n",
      "  [179 154 217 255]\n",
      "  [179 154 217 255]\n",
      "  [179 154 217 255]\n",
      "  [179 154 217 255]\n",
      "  [179 154 217 255]\n",
      "  [179 154 217 255]\n",
      "  [179 154 217 255]\n",
      "  [179 154 217 255]]\n",
      "\n",
      " [[176  80 147 255]\n",
      "  [176  80 147 255]\n",
      "  [179 154 217 255]\n",
      "  [176  80 147 255]\n",
      "  [179 154 217 255]\n",
      "  [179 154 217 255]\n",
      "  [179 154 217 255]\n",
      "  [179 154 217 255]\n",
      "  [179 154 217 255]\n",
      "  [179 154 217 255]]\n",
      "\n",
      " [[176  80 147 255]\n",
      "  [176  80 147 255]\n",
      "  [179 154 217 255]\n",
      "  [179 154 217 255]\n",
      "  [179 154 217 255]\n",
      "  [179 154 217 255]\n",
      "  [179 154 217 255]\n",
      "  [179 154 217 255]\n",
      "  [179 154 217 255]\n",
      "  [179 154 217 255]]\n",
      "\n",
      " [[176  80 147 255]\n",
      "  [176  80 147 255]\n",
      "  [179 154 217 255]\n",
      "  [179 154 217 255]\n",
      "  [179 154 217 255]\n",
      "  [179 154 217 255]\n",
      "  [179 154 217 255]\n",
      "  [179 154 217 255]\n",
      "  [176  80 147 255]\n",
      "  [176  80 147 255]]]\n"
     ]
    },
    {
     "data": {
      "image/png": "[encoded data removed]",
      "text/plain": [
       "<Figure size 640x480 with 1 Axes>"
      ]
     },
     "metadata": {},
     "output_type": "display_data"
    }
   ],
   "source": [
    "c = Image.open(\"images/parts/1_c.png\")\n",
    "\n",
    "c = np.asarray(c)\n",
    "\n",
    "plt.imshow(c)\n",
    "print(c)"
   ]
  },
  {
   "cell_type": "code",
   "execution_count": null,
   "metadata": {},
   "outputs": [],
   "source": []
  }
 ],
 "metadata": {
  "kernelspec": {
   "display_name": "coba_torch",
   "language": "python",
   "name": "python3"
  },
  "language_info": {
   "codemirror_mode": {
    "name": "ipython",
    "version": 3
   },
   "file_extension": ".py",
   "mimetype": "text/x-python",
   "name": "python",
   "nbconvert_exporter": "python",
   "pygments_lexer": "ipython3",
   "version": "3.9.15"
  },
  "orig_nbformat": 4
 },
 "nbformat": 4,
 "nbformat_minor": 2
}

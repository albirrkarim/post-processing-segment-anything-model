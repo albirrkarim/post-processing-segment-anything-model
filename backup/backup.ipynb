{
 "cells": [
  {
   "cell_type": "code",
   "execution_count": null,
   "metadata": {},
   "outputs": [],
   "source": [
    "def color_distance_darkness(color1, color2):\n",
    "    \"\"\"\n",
    "    Calculates the distance between two RGBA color values based on darkness.\n",
    "    Returns a value between 0 (colors are identical) and 1 (colors are maximally different).\n",
    "    \"\"\"\n",
    "    r1, g1, b1, a1 = color1\n",
    "    r2, g2, b2, a2 = color2\n",
    "    \n",
    "    # Calculate the \"darkness\" of each color as the average of its RGB values.\n",
    "    darkness1 = (r1 + g1 + b1) / 3\n",
    "    darkness2 = (r2 + g2 + b2) / 3\n",
    "    \n",
    "    # Calculate the absolute difference between the two darkness values.\n",
    "    darkness_diff = abs(darkness1 - darkness2)\n",
    "    \n",
    "    # Normalize the distance between 0 and 1.\n",
    "    return darkness_diff"
   ]
  },
  {
   "cell_type": "code",
   "execution_count": null,
   "metadata": {},
   "outputs": [],
   "source": [
    "import math\n",
    "\n",
    "def rgba_color_distance(color1, color2):\n",
    "    r1, g1, b1, a1 = color1\n",
    "    r2, g2, b2, a2 = color2\n",
    "\n",
    "    # Calculate the squared differences for each color channel\n",
    "    delta_r = (r2 - r1) ** 2\n",
    "    delta_g = (g2 - g1) ** 2\n",
    "    delta_b = (b2 - b1) ** 2\n",
    "    delta_a = (a2 - a1) ** 2\n",
    "\n",
    "    # Sum the squared differences and take the square root\n",
    "    distance = math.sqrt(delta_r + delta_g + delta_b + delta_a)\n",
    "\n",
    "    # Normalize the distance between 0 and 1\n",
    "    normalized_distance = distance / (2 * math.sqrt(255))\n",
    "\n",
    "    return normalized_distance\n"
   ]
  },
  {
   "cell_type": "code",
   "execution_count": null,
   "metadata": {},
   "outputs": [],
   "source": [
    "def transparent_based_on_distance(rgba_image):\n",
    "    height = rgba_image.shape[0]\n",
    "    width = rgba_image.shape[1]\n",
    "    rgba_image_out = rgba_image.copy()\n",
    "\n",
    "    for y in range(0, height):\n",
    "        for x in range(0, width):\n",
    "\n",
    "            before = rgba_image_out[y][x]\n",
    "\n",
    "            if (before[3] > 0):\n",
    "                before_full = rgba_image[y][x]\n",
    "                alpha = rgba_color_distance(before, dom)\n",
    "\n",
    "                alpha = (1 - alpha)*255\n",
    "\n",
    "                if (alpha < 10):\n",
    "                    # before_full = [0, 0, 0, 0]\n",
    "                    before_full[3] = alpha\n",
    "                else:\n",
    "                    before_full[3] = 255\n",
    "\n",
    "                rgba_image_out[y][x] = before_full\n",
    "\n",
    "    return rgba_image_out\n"
   ]
  }
 ],
 "metadata": {
  "language_info": {
   "name": "python"
  },
  "orig_nbformat": 4
 },
 "nbformat": 4,
 "nbformat_minor": 2
}
